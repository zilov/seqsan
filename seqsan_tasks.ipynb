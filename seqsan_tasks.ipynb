{
 "cells": [
  {
   "cell_type": "code",
   "execution_count": 6,
   "id": "fc2279b1",
   "metadata": {},
   "outputs": [],
   "source": [
    "import os"
   ]
  },
  {
   "cell_type": "markdown",
   "id": "40a4bc05",
   "metadata": {},
   "source": [
    "### Определяем геномы, среди которых будем искать пересечения"
   ]
  },
  {
   "cell_type": "code",
   "execution_count": 40,
   "id": "af7faeda",
   "metadata": {},
   "outputs": [],
   "source": [
    "genome_1 = \"/media/eternus1/projects/zilov/data/mycoplasma/genomes/GCF_000008365.1_ASM836v1_genomic.fna\"\n",
    "genome_2 = \"/media/eternus1/projects/zilov/data/mycoplasma/genomes/GCF_000011225.1_ASM1122v1_genomic.fna\"\n",
    "genome_3 = \"/media/eternus1/projects/zilov/data/mycoplasma/genomes/GCF_000012765.1_ASM1276v1_genomic.fna\"\n",
    "\n",
    "genomes = [genome_1, genome_2, genome_3]"
   ]
  },
  {
   "cell_type": "markdown",
   "id": "d8fa2679",
   "metadata": {},
   "source": [
    "### Функции которые нам пригодятся"
   ]
  },
  {
   "cell_type": "code",
   "execution_count": 25,
   "id": "7fec6b13",
   "metadata": {},
   "outputs": [],
   "source": [
    "def fasta_read(path_to_fasta_file):\n",
    "    \"Returns dicttionary with header:sequence\"\n",
    "    fasta = {}\n",
    "    header = None\n",
    "    with open(path_to_fasta_file) as fh:\n",
    "        for i, line in enumerate(fh):\n",
    "            line = line.strip()\n",
    "            if line.startswith(\">\"):\n",
    "                if header:\n",
    "                    fasta[header] = \"\".join(seq)\n",
    "                header = line[1:].split()[0]\n",
    "                seq = []\n",
    "            else:\n",
    "                seq.append(line)\n",
    "        if header:\n",
    "            fasta[header] = \"\".join(seq)\n",
    "    return fasta\n",
    "\n",
    "\n",
    "def seq_kmers(k, sequence):\n",
    "    \"\"\"Extracts all k-mers from genome\n",
    "\n",
    "    Args:\n",
    "        k (int): Length of k-mers\n",
    "        sequence (str): nucleotide/aminoacid sequence\n",
    "    \n",
    "    Returns:\n",
    "        list: all k-mers from genome\n",
    "    \"\"\"\n",
    "    \n",
    "    kmers = []\n",
    "    \n",
    "    for s in range(0, len(sequence) - k + 1):\n",
    "        kmer = sequence[s:s+k]\n",
    "        kmers.append(kmer)\n",
    "    return kmers\n",
    "\n",
    "\n",
    "def reverse_complement(sequence):\n",
    "    \"\"\"\n",
    "    Args:\n",
    "        seq (str): nucleotide sequence\n",
    "\n",
    "    Returns:\n",
    "        Reverse complement string\n",
    "    \"\"\"\n",
    "    complementary_table = str.maketrans({'A': 'T', 'T': 'A', 'C': 'G', 'G': 'C'})\n",
    "    revcomp_seq = sequence[::-1].translate(complementary_table)\n",
    "\n",
    "    return revcomp_seq"
   ]
  },
  {
   "cell_type": "markdown",
   "id": "a49fc5dc",
   "metadata": {},
   "source": [
    "### Выделяем все уникальные кмеры из всех геномов"
   ]
  },
  {
   "cell_type": "code",
   "execution_count": 26,
   "id": "2cf79d30",
   "metadata": {},
   "outputs": [],
   "source": [
    "all_unique_kmers = {}\n",
    "\n",
    "for i, genome in enumerate(genomes):\n",
    "    \n",
    "    genome_name = os.path.splitext(os.path.basename(genome))[0]\n",
    "    fasta_dict = fasta_read(genome)\n",
    "    \n",
    "    for k in range(20, 31, 2):\n",
    "        genome_kmers_set = set()\n",
    "        kmers_key = f\"{k}:{genome_name}\"\n",
    "        for header, seq in fasta_dict.items():\n",
    "            unique_kmers_forward = set(seq_kmers(k, seq))\n",
    "            unique_kmers_reverse = set(seq_kmers(k, reverse_complement(seq)))\n",
    "            genome_kmers_set.update(unique_kmers_forward, unique_kmers_reverse)\n",
    "        all_unique_kmers[kmers_key] = genome_kmers_set"
   ]
  },
  {
   "cell_type": "markdown",
   "id": "d9b2886c",
   "metadata": {},
   "source": [
    "### Простой пример поиска пересечения"
   ]
  },
  {
   "cell_type": "code",
   "execution_count": 47,
   "id": "6f07a255",
   "metadata": {},
   "outputs": [
    {
     "name": "stdout",
     "output_type": "stream",
     "text": [
      "{'TGTATTACCGCGGCTGCTGGCACATAGTTA', 'GTATTACCGCGGCTGCTGGCACATAGTTAG', 'GGCGGCCGTAACTATAACGGTCCTAAGGTA', 'CCTACTGATTACAAGTCAGTTGCTCTGCCT', 'ATGTATTACCGCGGCTGCTGGCACATAGTT', 'GTAACTATAACGGTCCTAAGGTAGCGAAAT', 'CTATGTATTACCGCGGCTGCTGGCACATAG', 'CCGTAACTATAACGGTCCTAAGGTAGCGAA', 'CGGCGGCCGTAACTATAACGGTCCTAAGGT', 'GTGAACGGCGGCCGTAACTATAACGGTCCT', 'GCTACCTTAGGACCGTTATAGTTACGGCCG', 'GAACGGCGGCCGTAACTATAACGGTCCTAA', 'TAGGACCGTTATAGTTACGGCCGCCGTTCA', 'CTACCTTAGGACCGTTATAGTTACGGCCGC', 'TTACCGCGGCTGCTGGCACATAGTTAGCCG', 'TACCTTAGGACCGTTATAGTTACGGCCGCC', 'TTTCGCTACCTTAGGACCGTTATAGTTACG', 'CTAACTATGTGCCAGCAGCCGCGGTAATAC', 'CTTAGGACCGTTATAGTTACGGCCGCCGTT', 'TAACTATGTGCCAGCAGCCGCGGTAATACA', 'CCTATGTATTACCGCGGCTGCTGGCACATA', 'TATGTATTACCGCGGCTGCTGGCACATAGT', 'ATTACCGCGGCTGCTGGCACATAGTTAGCC', 'GCGGCCGTAACTATAACGGTCCTAAGGTAG', 'TTCGCTACCTTAGGACCGTTATAGTTACGG', 'ACCTACTGATTACAAGTCAGTTGCTCTGCC', 'GGTGAACGGCGGCCGTAACTATAACGGTCC', 'CGCTACCTTAGGACCGTTATAGTTACGGCC', 'GGCCGTAACTATAACGGTCCTAAGGTAGCG', 'GGCAGAGCAACTGACTTGTAATCAGTAGGT', 'TATTACCGCGGCTGCTGGCACATAGTTAGC', 'TTAGGACCGTTATAGTTACGGCCGCCGTTC', 'ACTATGTGCCAGCAGCCGCGGTAATACATA', 'GCCGTAACTATAACGGTCCTAAGGTAGCGA', 'AACGGCGGCCGTAACTATAACGGTCCTAAG', 'ACGGCGGCCGTAACTATAACGGTCCTAAGG', 'ACCTTAGGACCGTTATAGTTACGGCCGCCG', 'CTATGTGCCAGCAGCCGCGGTAATACATAG', 'GCTAACTATGTGCCAGCAGCCGCGGTAATA', 'ATTTCGCTACCTTAGGACCGTTATAGTTAC', 'AGGACCGTTATAGTTACGGCCGCCGTTCAC', 'GGACCGTTATAGTTACGGCCGCCGTTCACC', 'CGGCTAACTATGTGCCAGCAGCCGCGGTAA', 'AGGCAGAGCAACTGACTTGTAATCAGTAGG', 'TCGCTACCTTAGGACCGTTATAGTTACGGC', 'CGGCCGTAACTATAACGGTCCTAAGGTAGC', 'AACTATGTGCCAGCAGCCGCGGTAATACAT', 'CGTAACTATAACGGTCCTAAGGTAGCGAAA', 'TGAACGGCGGCCGTAACTATAACGGTCCTA', 'CCTTAGGACCGTTATAGTTACGGCCGCCGT', 'TATGTGCCAGCAGCCGCGGTAATACATAGG', 'GGCTAACTATGTGCCAGCAGCCGCGGTAAT'}\n"
     ]
    }
   ],
   "source": [
    "genome_1_kmers = all_unique_kmers[\"30:GCF_000008365.1_ASM836v1_genomic\"]\n",
    "genome_2_kmers = all_unique_kmers[\"30:GCF_000011225.1_ASM1122v1_genomic\"]\n",
    "genome_3_kmers = all_unique_kmers[\"30:GCF_000012765.1_ASM1276v1_genomic\"]\n",
    "\n",
    "common_kmers = genome_1_kmers.intersection(genome_2_kmers, genome_3_kmers)\n",
    "print(common_kmers)"
   ]
  },
  {
   "cell_type": "markdown",
   "id": "1818ee7e",
   "metadata": {},
   "source": [
    "### Если лень вводить для каждого генома вручную"
   ]
  },
  {
   "cell_type": "code",
   "execution_count": 48,
   "id": "6382ad70",
   "metadata": {},
   "outputs": [
    {
     "name": "stdout",
     "output_type": "stream",
     "text": [
      "30\n",
      "['30:GCF_000008365.1_ASM836v1_genomic', '30:GCF_000011225.1_ASM1122v1_genomic', '30:GCF_000012765.1_ASM1276v1_genomic']\n",
      "len of set_1 = 1523201, set_2 = 2639408\n",
      "add last\n",
      "len of set_1 = 134, set_2 = 1984923\n",
      "intersection length: 52\n",
      "nice\n",
      "28\n",
      "['28:GCF_000008365.1_ASM836v1_genomic', '28:GCF_000011225.1_ASM1122v1_genomic', '28:GCF_000012765.1_ASM1276v1_genomic']\n",
      "len of set_1 = 1522186, set_2 = 2636473\n",
      "add last\n",
      "len of set_1 = 198, set_2 = 1983289\n",
      "intersection length: 66\n",
      "nice\n",
      "26\n",
      "['26:GCF_000008365.1_ASM836v1_genomic', '26:GCF_000011225.1_ASM1122v1_genomic', '26:GCF_000012765.1_ASM1276v1_genomic']\n",
      "len of set_1 = 1521099, set_2 = 2633031\n",
      "add last\n",
      "len of set_1 = 296, set_2 = 1981448\n",
      "intersection length: 88\n",
      "nice\n",
      "24\n",
      "['24:GCF_000008365.1_ASM836v1_genomic', '24:GCF_000011225.1_ASM1122v1_genomic', '24:GCF_000012765.1_ASM1276v1_genomic']\n",
      "len of set_1 = 1519916, set_2 = 2628979\n",
      "add last\n",
      "len of set_1 = 446, set_2 = 1979315\n",
      "intersection length: 124\n",
      "nice\n",
      "22\n",
      "['22:GCF_000008365.1_ASM836v1_genomic', '22:GCF_000011225.1_ASM1122v1_genomic', '22:GCF_000012765.1_ASM1276v1_genomic']\n",
      "len of set_1 = 1518543, set_2 = 2623985\n",
      "add last\n",
      "len of set_1 = 808, set_2 = 1976705\n",
      "intersection length: 182\n",
      "nice\n",
      "20\n",
      "['20:GCF_000008365.1_ASM836v1_genomic', '20:GCF_000011225.1_ASM1122v1_genomic', '20:GCF_000012765.1_ASM1276v1_genomic']\n",
      "len of set_1 = 1516633, set_2 = 2617203\n",
      "add last\n",
      "len of set_1 = 2086, set_2 = 1972697\n",
      "intersection length: 284\n",
      "nice\n"
     ]
    }
   ],
   "source": [
    "intersec = {}\n",
    "\n",
    "for k in range(30, 19, -2):\n",
    "    k_intersection = None\n",
    "    k_keys = [] # записываем все ключи с одинаковым K\n",
    "    print(k)\n",
    "    for key in all_unique_kmers.keys():\n",
    "        if int(key.split(\":\")[0]) == k:\n",
    "            k_keys.append(key)\n",
    "    print(k_keys)\n",
    "    \n",
    "    # пробегаемся по всем множествам \n",
    "    for i in range(len(k_keys) - 1):\n",
    "        \n",
    "        if k_intersection:\n",
    "            last_intersection = k_intersection\n",
    "            set_1 = k_intersection    \n",
    "        \n",
    "        else:\n",
    "            if i == 0:\n",
    "                set_1 = all_unique_kmers[k_keys[0]]\n",
    "            elif last_intersection:\n",
    "                intersec[f\"not_full:{i}/{len(k_keys)}:{k}\"] = last_intersection\n",
    "                k_intersection = None\n",
    "                print(\"miss\")\n",
    "                break\n",
    "            else:\n",
    "                print(f\"No intersections with k = {k}\")\n",
    "        \n",
    "        set_2 = all_unique_kmers[k_keys[i+1]]\n",
    "        \n",
    "        \n",
    "        print(f\"len of set_1 = {len(set_1)}, set_2 = {len(set_2)}\")\n",
    "        \n",
    "        k_intersection = set_1.intersection(set_2)\n",
    "        \n",
    "        if i == len(k_keys) - 2:\n",
    "            if k_intersection:\n",
    "                intersec[k] = k_intersection\n",
    "                print(\"intersection length:\", len(k_intersection))\n",
    "                k_intersection = None\n",
    "                print(\"nice\")\n",
    "            else:\n",
    "                print(\"no intersections with last set\")\n",
    "        else:\n",
    "            intersec[k] = last_intersection\n",
    "            print(\"add last\")"
   ]
  },
  {
   "cell_type": "markdown",
   "id": "28a129e6",
   "metadata": {},
   "source": [
    "### Домашнее задание"
   ]
  },
  {
   "cell_type": "markdown",
   "id": "d36279fb",
   "metadata": {},
   "source": [
    "1) Скачать три генома: референсные E.coli, P. aueroginosa, B. bifidum\n",
    "\n",
    "2) Найти нуклеотидные и аминокислотные пересечения между ними, определить максимальную длину\n",
    "\n",
    "3) Скачать 10 геномов разных штаммов E.coli, найти пересечения по всем геномам"
   ]
  },
  {
   "cell_type": "code",
   "execution_count": null,
   "id": "ed30825e",
   "metadata": {},
   "outputs": [],
   "source": []
  },
  {
   "cell_type": "code",
   "execution_count": 107,
   "id": "bc3d699c",
   "metadata": {},
   "outputs": [],
   "source": [
    "from collections import defaultdict\n",
    "\n",
    "def mmseq_clusters_parser(mmseq_cluster_tsv):\n",
    "    clusters = defaultdict(list)\n",
    "    with open(mmseq_cluster_tsv) as fh:\n",
    "        for line in fh:\n",
    "            if line.startswith(\"#\"):\n",
    "                continue\n",
    "            line = line.strip().split()\n",
    "            cluster_name = line[0]\n",
    "            cluster_part = line[1] \n",
    "            if cluster_name == cluster_part:\n",
    "                previous_cluster = cluster_name\n",
    "                clusters[previous_cluster].append(cluster_part)\n",
    "            else:\n",
    "                clusters[previous_cluster].append(cluster_part)\n",
    "    return clusters\n",
    "\n",
    "def mmseq_clusters_numbers(clusters_dict):\n",
    "    clusters_number = []\n",
    "    for cluster, parts in clusters_dict.items():\n",
    "        clusters_number.append([cluster, len(parts)])\n",
    "    clusters_number.sort(key = lambda x: x[1], reverse = True)\n",
    "    return clusters_number\n",
    "\n",
    "def fasta_read(path_to_fasta_file):\n",
    "    \"Returns dictionary header:sequence\"\n",
    "    fasta = {}\n",
    "    header = None\n",
    "    with open(path_to_fasta_file) as fh:\n",
    "        for i, line in enumerate(fh):\n",
    "            line = line.strip()\n",
    "            if line.startswith(\">\"):\n",
    "                if header:\n",
    "                    fasta[header] = \"\".join(seq)\n",
    "                header = line[1:].split()[0]\n",
    "                seq = []\n",
    "            else:\n",
    "                seq.append(line)\n",
    "        if header:\n",
    "            fasta[header] = \"\".join(seq)\n",
    "    return fasta"
   ]
  },
  {
   "cell_type": "code",
   "execution_count": 104,
   "id": "b0c2a1f1",
   "metadata": {},
   "outputs": [],
   "source": [
    "myco_nucl_clusters = mmseq_clusters_parser(\"/media/eternus1/projects/zilov/data/mycoplasma/mmseq_aminoprots/mycoprot_cluster.tsv\")\n",
    "myco_nucl_clusters_numbers = mmseq_clusters_numbers(myco_nucl_clusters) "
   ]
  },
  {
   "cell_type": "code",
   "execution_count": 108,
   "id": "60e61074",
   "metadata": {},
   "outputs": [],
   "source": [
    "from glob import glob\n",
    "\n",
    "amino_fasta = glob(\"/home/dzilov/data_zilov/data/mycoplasma/proteins_amino/*.faa\")\n",
    "\n",
    "cluster_fasta_dict = {}\n",
    "\n",
    "for fasta in amino_fasta:\n",
    "    genome = fasta_read(fasta)\n",
    "    for prot_id in myco_nucl_clusters[\"WP_036444774.1\"]:\n",
    "        if prot_id in genome.keys():\n",
    "            cluster_fasta_dict[prot_id] = genome[prot_id]"
   ]
  },
  {
   "cell_type": "code",
   "execution_count": 110,
   "id": "545e1fde",
   "metadata": {},
   "outputs": [],
   "source": [
    "fasta_cluster = \"/home/dzilov/data_zilov/data/mycoplasma/clusters_fasta_aa/WP_036444774.1.fasta\"\n",
    "\n",
    "with open(fasta_cluster, \"w\") as fw:\n",
    "    for header, seq in cluster_fasta_dict.items():\n",
    "        fw.write(f\">{header}\\n{seq}\\n\")"
   ]
  },
  {
   "cell_type": "markdown",
   "id": "8e2c2e65",
   "metadata": {},
   "source": [
    "### И этот fasta cluster прогоняем muscle\n",
    "\n",
    "После визуализируем"
   ]
  },
  {
   "cell_type": "markdown",
   "id": "0e925f0d",
   "metadata": {},
   "source": [
    "### ДЗ\n",
    "\n",
    "1) Качаем белки по микоплазме\n",
    "\n",
    "2) Кластеризуем\n",
    "\n",
    "3) Проверяем что белки в кластере относятся к разным бактериям (чтобы не было многокопийных)\n",
    "\n",
    "4) Выравниваем\n",
    "\n",
    "5) Визуализируем (сами найдите тул)"
   ]
  },
  {
   "cell_type": "code",
   "execution_count": null,
   "id": "832ff07f",
   "metadata": {},
   "outputs": [],
   "source": []
  },
  {
   "cell_type": "code",
   "execution_count": null,
   "id": "27c0a1ca",
   "metadata": {},
   "outputs": [],
   "source": []
  },
  {
   "cell_type": "code",
   "execution_count": null,
   "id": "8a557db8",
   "metadata": {},
   "outputs": [],
   "source": []
  },
  {
   "cell_type": "code",
   "execution_count": null,
   "id": "4994d465",
   "metadata": {},
   "outputs": [],
   "source": []
  }
 ],
 "metadata": {
  "kernelspec": {
   "display_name": "Python 3",
   "language": "python",
   "name": "python3"
  }
 },
 "nbformat": 4,
 "nbformat_minor": 5
}
